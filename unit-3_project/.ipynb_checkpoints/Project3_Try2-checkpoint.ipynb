{
 "cells": [
  {
   "cell_type": "markdown",
   "metadata": {},
   "source": [
    "## Import Libraries"
   ]
  },
  {
   "cell_type": "code",
   "execution_count": 98,
   "metadata": {},
   "outputs": [],
   "source": [
    "import pandas as pd\n",
    "import numpy as np\n",
    "import seaborn as sns\n",
    "import matplotlib.pyplot as plt\n",
    "from sklearn import model_selection\n",
    "from sklearn import metrics\n",
    "from sklearn.model_selection import train_test_split\n",
    "from sklearn.linear_model import LinearRegression\n",
    "from sklearn.model_selection import cross_val_score\n",
    "\n",
    "%matplotlib inline\n",
    "plt.rcParams['figure.figsize'] = (16, 8)\n",
    "pd.set_option('display.max_columns', 100)"
   ]
  },
  {
   "cell_type": "markdown",
   "metadata": {},
   "source": [
    "## Read the data"
   ]
  },
  {
   "cell_type": "code",
   "execution_count": 109,
   "metadata": {},
   "outputs": [],
   "source": [
    "train = './data/train.csv'\n",
    "test = './data/test.csv'\n",
    "\n",
    "df = pd.read_csv(train)\n",
    "df_test = pd.read_csv(test)\n",
    "df.sample(n=5)\n",
    "\n",
    "test_id = df_test.Id"
   ]
  },
  {
   "cell_type": "markdown",
   "metadata": {},
   "source": [
    "## Data manipulation"
   ]
  },
  {
   "cell_type": "code",
   "execution_count": 110,
   "metadata": {},
   "outputs": [],
   "source": [
    "df['Garage Type'] = df['Garage Type'].fillna('None')\n",
    "df_test['Garage Type'] = df_test['Garage Type'].fillna('None')\n",
    "\n",
    "df['Garage Cars'] = df['Garage Cars'].fillna(0)\n",
    "df_test['Garage Cars'] = df_test['Garage Cars'].fillna(0)"
   ]
  },
  {
   "cell_type": "code",
   "execution_count": 111,
   "metadata": {},
   "outputs": [
    {
     "name": "stdout",
     "output_type": "stream",
     "text": [
      "(2051, 57)\n",
      "(879, 56)\n"
     ]
    }
   ],
   "source": [
    "missing_data = df.isnull().sum()[df.isnull().sum() > 0]\n",
    "missing_data = list(missing_data.index)\n",
    "missing_data\n",
    "\n",
    "df.drop(missing_data, axis=1, inplace=True)\n",
    "df_test.drop(missing_data, axis=1, inplace=True)\n",
    "print(df.shape)\n",
    "print(df_test.shape)"
   ]
  },
  {
   "cell_type": "markdown",
   "metadata": {},
   "source": [
    "## Feature engineering"
   ]
  },
  {
   "cell_type": "code",
   "execution_count": 112,
   "metadata": {},
   "outputs": [],
   "source": [
    "garage_dummies = pd.get_dummies(df['Garage Type'], prefix='Garage')\n",
    "garage_dummies_test = pd.get_dummies(df_test['Garage Type'], prefix='Garage')"
   ]
  },
  {
   "cell_type": "code",
   "execution_count": 113,
   "metadata": {},
   "outputs": [],
   "source": [
    "df['MS Zoning'] = df['MS Zoning'].str.replace('R.', 'R', regex=True)\n",
    "df_test['MS Zoning'] = df_test['MS Zoning'].str.replace('R.', 'R', regex=True)\n",
    "# All residentials as a single variable\n",
    "\n",
    "zoning_dummies = pd.get_dummies(df['MS Zoning'], prefix='Zoning')\n",
    "zoning_dummies_test = pd.get_dummies(df_test['MS Zoning'], prefix='Zoning')\n",
    "\n",
    "zoning_dummies = zoning_dummies[['Zoning_R']]\n",
    "zoning_dummies_test = zoning_dummies_test[['Zoning_R']]"
   ]
  },
  {
   "cell_type": "code",
   "execution_count": 114,
   "metadata": {},
   "outputs": [],
   "source": [
    "h_style_dummies = pd.get_dummies(df['House Style'], prefix='Style')\n",
    "h_style_dummies_test = pd.get_dummies(df_test['House Style'], prefix='Style')\n",
    "\n",
    "h_style_dummies = h_style_dummies[['Style_1Story', 'Style_2Story']] # Just the 2 most common\n",
    "h_style_dummies_test = h_style_dummies_test[['Style_1Story', 'Style_2Story']] # Just the 2 most common"
   ]
  },
  {
   "cell_type": "code",
   "execution_count": 115,
   "metadata": {},
   "outputs": [],
   "source": [
    "sale_type_dummies = pd.get_dummies(df['Sale Type'], prefix='Sale')\n",
    "sale_type_dummies_test = pd.get_dummies(df_test['Sale Type'], prefix='Sale')\n",
    "\n",
    "sale_type_dummies = sale_type_dummies[['Sale_New', 'Sale_WD ']] # Looking for new or WD\n",
    "sale_type_dummies_test = sale_type_dummies_test[['Sale_New', 'Sale_WD ']] # Looking for new or WD"
   ]
  },
  {
   "cell_type": "code",
   "execution_count": 116,
   "metadata": {},
   "outputs": [],
   "source": [
    "dummies = pd.concat([garage_dummies, zoning_dummies, h_style_dummies, sale_type_dummies], axis=1)\n",
    "dummies_test = pd.concat([garage_dummies_test, zoning_dummies_test, h_style_dummies_test, sale_type_dummies_test], axis=1)"
   ]
  },
  {
   "cell_type": "code",
   "execution_count": 117,
   "metadata": {},
   "outputs": [
    {
     "data": {
      "text/plain": [
       "585      1\n",
       "235     92\n",
       "575      1\n",
       "339      0\n",
       "869     52\n",
       "1602     1\n",
       "596      1\n",
       "1218     1\n",
       "926      0\n",
       "208      1\n",
       "Name: Years_Remodeled, dtype: int64"
      ]
     },
     "execution_count": 117,
     "metadata": {},
     "output_type": "execute_result"
    }
   ],
   "source": [
    "df['Years_Remodeled'] = df['Year Remod/Add'] - df['Year Built']\n",
    "df['Years_Remodeled'].sample(10)"
   ]
  },
  {
   "cell_type": "markdown",
   "metadata": {},
   "source": [
    "## Feature and predictor selection"
   ]
  },
  {
   "cell_type": "code",
   "execution_count": 118,
   "metadata": {},
   "outputs": [
    {
     "name": "stdout",
     "output_type": "stream",
     "text": [
      "(2051, 18)\n",
      "(879, 18)\n"
     ]
    }
   ],
   "source": [
    "feature_cols = ['Overall Qual', 'Year Built', 'Gr Liv Area', 'Full Bath', 'Garage Cars', 'Lot Area']\n",
    "X = df[feature_cols]\n",
    "X = pd.concat([X, dummies], axis = 1)\n",
    "print(X.shape)\n",
    "\n",
    "X_df_test = df_test[feature_cols]\n",
    "X_df_test = pd.concat([X_df_test, dummies_test], axis = 1)\n",
    "print(X_df_test.shape)"
   ]
  },
  {
   "cell_type": "code",
   "execution_count": 119,
   "metadata": {},
   "outputs": [],
   "source": [
    "y = df['SalePrice']"
   ]
  },
  {
   "cell_type": "markdown",
   "metadata": {},
   "source": [
    "## Train test split"
   ]
  },
  {
   "cell_type": "code",
   "execution_count": 120,
   "metadata": {},
   "outputs": [],
   "source": [
    "X_train, X_test, y_train, y_test = train_test_split(X,y, random_state = 99)"
   ]
  },
  {
   "cell_type": "markdown",
   "metadata": {},
   "source": [
    "## Model fitting"
   ]
  },
  {
   "cell_type": "code",
   "execution_count": 121,
   "metadata": {},
   "outputs": [
    {
     "data": {
      "text/plain": [
       "LinearRegression(copy_X=True, fit_intercept=True, n_jobs=None,\n",
       "         normalize=False)"
      ]
     },
     "execution_count": 121,
     "metadata": {},
     "output_type": "execute_result"
    }
   ],
   "source": [
    "lr = LinearRegression()\n",
    "lr.fit(X_train, y_train)"
   ]
  },
  {
   "cell_type": "markdown",
   "metadata": {},
   "source": [
    "## Model prediction"
   ]
  },
  {
   "cell_type": "code",
   "execution_count": 122,
   "metadata": {},
   "outputs": [],
   "source": [
    "y_pred = lr.predict(X_test)"
   ]
  },
  {
   "cell_type": "markdown",
   "metadata": {},
   "source": [
    "## Cross Validation"
   ]
  },
  {
   "cell_type": "code",
   "execution_count": 123,
   "metadata": {},
   "outputs": [
    {
     "name": "stdout",
     "output_type": "stream",
     "text": [
      "1319462364.945849\n",
      "0.7900581671689385\n"
     ]
    }
   ],
   "source": [
    "kf = model_selection.KFold(n_splits=5, shuffle=True)\n",
    "\n",
    "print(np.mean(-cross_val_score(lr, X, y, cv=kf, scoring='neg_mean_squared_error')))\n",
    "print(np.mean(cross_val_score(lr, X, y, cv=kf)))"
   ]
  },
  {
   "cell_type": "markdown",
   "metadata": {},
   "source": [
    "## Predict with test data"
   ]
  },
  {
   "cell_type": "code",
   "execution_count": 141,
   "metadata": {},
   "outputs": [
    {
     "data": {
      "text/html": [
       "<div>\n",
       "<style scoped>\n",
       "    .dataframe tbody tr th:only-of-type {\n",
       "        vertical-align: middle;\n",
       "    }\n",
       "\n",
       "    .dataframe tbody tr th {\n",
       "        vertical-align: top;\n",
       "    }\n",
       "\n",
       "    .dataframe thead th {\n",
       "        text-align: right;\n",
       "    }\n",
       "</style>\n",
       "<table border=\"1\" class=\"dataframe\">\n",
       "  <thead>\n",
       "    <tr style=\"text-align: right;\">\n",
       "      <th></th>\n",
       "      <th>Id</th>\n",
       "      <th>SalePrice</th>\n",
       "    </tr>\n",
       "  </thead>\n",
       "  <tbody>\n",
       "    <tr>\n",
       "      <th>430</th>\n",
       "      <td>2155</td>\n",
       "      <td>293329.934199</td>\n",
       "    </tr>\n",
       "    <tr>\n",
       "      <th>383</th>\n",
       "      <td>442</td>\n",
       "      <td>307052.948991</td>\n",
       "    </tr>\n",
       "    <tr>\n",
       "      <th>464</th>\n",
       "      <td>1768</td>\n",
       "      <td>471670.466387</td>\n",
       "    </tr>\n",
       "    <tr>\n",
       "      <th>634</th>\n",
       "      <td>288</td>\n",
       "      <td>43493.602043</td>\n",
       "    </tr>\n",
       "    <tr>\n",
       "      <th>327</th>\n",
       "      <td>673</td>\n",
       "      <td>134657.067098</td>\n",
       "    </tr>\n",
       "  </tbody>\n",
       "</table>\n",
       "</div>"
      ],
      "text/plain": [
       "       Id      SalePrice\n",
       "430  2155  293329.934199\n",
       "383   442  307052.948991\n",
       "464  1768  471670.466387\n",
       "634   288   43493.602043\n",
       "327   673  134657.067098"
      ]
     },
     "execution_count": 141,
     "metadata": {},
     "output_type": "execute_result"
    }
   ],
   "source": [
    "y_pred = lr.predict(X_df_test)\n",
    "\n",
    "prediction = pd.concat([test_id, pd.Series(y_pred)], axis = 1)\n",
    "prediction.columns = ['Id', 'SalePrice']\n",
    "\n",
    "prediction.sample(5)"
   ]
  },
  {
   "cell_type": "code",
   "execution_count": 142,
   "metadata": {},
   "outputs": [],
   "source": [
    "prediction.to_csv(\"Emilio_Try1_LR.csv\", index=False)"
   ]
  }
 ],
 "metadata": {
  "kernelspec": {
   "display_name": "Python 3",
   "language": "python",
   "name": "python3"
  },
  "language_info": {
   "codemirror_mode": {
    "name": "ipython",
    "version": 3
   },
   "file_extension": ".py",
   "mimetype": "text/x-python",
   "name": "python",
   "nbconvert_exporter": "python",
   "pygments_lexer": "ipython3",
   "version": "3.6.8"
  }
 },
 "nbformat": 4,
 "nbformat_minor": 2
}
