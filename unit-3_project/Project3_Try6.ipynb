{
 "cells": [
  {
   "cell_type": "markdown",
   "metadata": {},
   "source": [
    "## Import Libraries"
   ]
  },
  {
   "cell_type": "code",
   "execution_count": 28,
   "metadata": {},
   "outputs": [],
   "source": [
    "import pandas as pd\n",
    "import numpy as np\n",
    "import seaborn as sns\n",
    "import matplotlib.pyplot as plt\n",
    "from sklearn import model_selection\n",
    "from sklearn import metrics\n",
    "from sklearn.model_selection import train_test_split\n",
    "from sklearn.ensemble import RandomForestRegressor\n",
    "from sklearn.model_selection import cross_val_score\n",
    "\n",
    "%matplotlib inline\n",
    "plt.rcParams['figure.figsize'] = (16, 8)\n",
    "pd.set_option('display.max_columns', 100)"
   ]
  },
  {
   "cell_type": "markdown",
   "metadata": {},
   "source": [
    "## Read the data"
   ]
  },
  {
   "cell_type": "code",
   "execution_count": 2,
   "metadata": {},
   "outputs": [],
   "source": [
    "train = './data/train.csv'\n",
    "test = './data/test.csv'\n",
    "\n",
    "df = pd.read_csv(train)\n",
    "df_test = pd.read_csv(test)\n",
    "df.sample(n=5)\n",
    "\n",
    "test_id = df_test.Id"
   ]
  },
  {
   "cell_type": "markdown",
   "metadata": {},
   "source": [
    "## Data manipulation"
   ]
  },
  {
   "cell_type": "code",
   "execution_count": 3,
   "metadata": {},
   "outputs": [],
   "source": [
    "df['Garage Type'] = df['Garage Type'].fillna('None')\n",
    "df_test['Garage Type'] = df_test['Garage Type'].fillna('None')\n",
    "\n",
    "df['Garage Cars'] = df['Garage Cars'].fillna(0)\n",
    "df_test['Garage Cars'] = df_test['Garage Cars'].fillna(0)\n",
    "\n",
    "df['Total Bsmt SF'] = df['Total Bsmt SF'].fillna(0)\n",
    "df_test['Total Bsmt SF'] = df_test['Total Bsmt SF'].fillna(0)"
   ]
  },
  {
   "cell_type": "code",
   "execution_count": 4,
   "metadata": {},
   "outputs": [
    {
     "name": "stdout",
     "output_type": "stream",
     "text": [
      "(2051, 58)\n",
      "(879, 57)\n"
     ]
    }
   ],
   "source": [
    "missing_data = df.isnull().sum()[df.isnull().sum() > 0]\n",
    "missing_data = list(missing_data.index)\n",
    "missing_data\n",
    "\n",
    "df.drop(missing_data, axis=1, inplace=True)\n",
    "df_test.drop(missing_data, axis=1, inplace=True)\n",
    "print(df.shape)\n",
    "print(df_test.shape)"
   ]
  },
  {
   "cell_type": "markdown",
   "metadata": {},
   "source": [
    "## Feature engineering"
   ]
  },
  {
   "cell_type": "code",
   "execution_count": 5,
   "metadata": {},
   "outputs": [],
   "source": [
    "garage_dummies = pd.get_dummies(df['Garage Type'], prefix='Garage')\n",
    "garage_dummies_test = pd.get_dummies(df_test['Garage Type'], prefix='Garage')"
   ]
  },
  {
   "cell_type": "code",
   "execution_count": 6,
   "metadata": {},
   "outputs": [],
   "source": [
    "df['MS Zoning'] = df['MS Zoning'].str.replace('R.', 'R', regex=True)\n",
    "df_test['MS Zoning'] = df_test['MS Zoning'].str.replace('R.', 'R', regex=True)\n",
    "# All residentials as a single variable\n",
    "\n",
    "zoning_dummies = pd.get_dummies(df['MS Zoning'], prefix='Zoning')\n",
    "zoning_dummies_test = pd.get_dummies(df_test['MS Zoning'], prefix='Zoning')\n",
    "\n",
    "zoning_dummies = zoning_dummies[['Zoning_R']]\n",
    "zoning_dummies_test = zoning_dummies_test[['Zoning_R']]"
   ]
  },
  {
   "cell_type": "code",
   "execution_count": 7,
   "metadata": {},
   "outputs": [],
   "source": [
    "h_style_dummies = pd.get_dummies(df['House Style'], prefix='Style')\n",
    "h_style_dummies_test = pd.get_dummies(df_test['House Style'], prefix='Style')\n",
    "\n",
    "h_style_dummies = h_style_dummies[['Style_1Story', 'Style_2Story']] # Just the 2 most common\n",
    "h_style_dummies_test = h_style_dummies_test[['Style_1Story', 'Style_2Story']] # Just the 2 most common"
   ]
  },
  {
   "cell_type": "code",
   "execution_count": 8,
   "metadata": {},
   "outputs": [],
   "source": [
    "sale_type_dummies = pd.get_dummies(df['Sale Type'], prefix='Sale')\n",
    "sale_type_dummies_test = pd.get_dummies(df_test['Sale Type'], prefix='Sale')\n",
    "\n",
    "sale_type_dummies = sale_type_dummies[['Sale_New', 'Sale_WD ']] # Looking for new or WD\n",
    "sale_type_dummies_test = sale_type_dummies_test[['Sale_New', 'Sale_WD ']] # Looking for new or WD"
   ]
  },
  {
   "cell_type": "markdown",
   "metadata": {},
   "source": [
    "New in try 5"
   ]
  },
  {
   "cell_type": "code",
   "execution_count": 9,
   "metadata": {},
   "outputs": [],
   "source": [
    "condition_dummies = pd.get_dummies(df['Condition 1'], prefix='Condition')\n",
    "condition_dummies_test = pd.get_dummies(df_test['Condition 1'], prefix='Condition')\n",
    "\n",
    "condition_dummies = condition_dummies[['Condition_Norm', 'Condition_PosA', 'Condition_PosN']]\n",
    "condition_dummies_test = condition_dummies_test[['Condition_Norm', 'Condition_PosA', 'Condition_PosN']]"
   ]
  },
  {
   "cell_type": "code",
   "execution_count": 10,
   "metadata": {},
   "outputs": [],
   "source": [
    "foundation_dummies = pd.get_dummies(df['Foundation'], prefix='Foundation')\n",
    "foundation_dummies_test = pd.get_dummies(df_test['Foundation'], prefix='Foundation')\n",
    "\n",
    "foundation_dummies = foundation_dummies[['Foundation_PConc']]\n",
    "foundation_dummies_test = foundation_dummies_test[['Foundation_PConc']]"
   ]
  },
  {
   "cell_type": "code",
   "execution_count": 11,
   "metadata": {},
   "outputs": [],
   "source": [
    "heating_dummies = pd.get_dummies(df['Heating QC'], prefix='Heating')\n",
    "heating_dummies_test = pd.get_dummies(df_test['Heating QC'], prefix='Heating')\n",
    "\n",
    "heating_dummies = heating_dummies[['Heating_Ex']]\n",
    "heating_dummies_test = heating_dummies_test[['Heating_Ex']]"
   ]
  },
  {
   "cell_type": "code",
   "execution_count": 12,
   "metadata": {},
   "outputs": [],
   "source": [
    "#df['Functional'] = df['Functional'].str.slice(0,3)\n",
    "#df_test['Functional'] = df_test['Functional'].str.slice(0,3)\n",
    "\n",
    "functional_dummies = pd.get_dummies(df['Functional'], prefix='Functional')\n",
    "functional_dummies_test = pd.get_dummies(df_test['Functional'], prefix='Functional')\n",
    "\n",
    "functional_dummies = functional_dummies[['Functional_Typ']]\n",
    "functional_dummies_test = functional_dummies_test[['Functional_Typ']]"
   ]
  },
  {
   "cell_type": "code",
   "execution_count": 13,
   "metadata": {},
   "outputs": [],
   "source": [
    "dummies = pd.concat([garage_dummies, zoning_dummies, h_style_dummies, sale_type_dummies, condition_dummies, foundation_dummies, heating_dummies, functional_dummies], axis=1)\n",
    "dummies_test = pd.concat([garage_dummies_test, zoning_dummies_test, h_style_dummies_test, sale_type_dummies_test, condition_dummies_test, foundation_dummies_test, heating_dummies_test, functional_dummies_test], axis=1)"
   ]
  },
  {
   "cell_type": "markdown",
   "metadata": {},
   "source": [
    "New in try 5"
   ]
  },
  {
   "cell_type": "code",
   "execution_count": 14,
   "metadata": {},
   "outputs": [],
   "source": [
    "df['AgeBuilt'] = 2019 - df['Year Built']\n",
    "df_test['AgeBuilt'] = 2019 - df_test['Year Built']\n",
    "\n",
    "df['AgeRemod'] = 2019 - df['Year Remod/Add']\n",
    "df_test['AgeRemod'] = 2019 - df_test['Year Remod/Add']\n",
    "\n",
    "df['BuiltArea'] = df['Total Bsmt SF'] + df['1st Flr SF'] + df['Gr Liv Area']\n",
    "df_test['BuiltArea'] = df_test['Total Bsmt SF'] + df_test['1st Flr SF'] + df_test['Gr Liv Area']"
   ]
  },
  {
   "cell_type": "markdown",
   "metadata": {},
   "source": [
    "## Feature and predictor selection"
   ]
  },
  {
   "cell_type": "code",
   "execution_count": 15,
   "metadata": {},
   "outputs": [
    {
     "name": "stdout",
     "output_type": "stream",
     "text": [
      "(2051, 27)\n",
      "(879, 27)\n"
     ]
    }
   ],
   "source": [
    "feature_cols = ['Overall Qual', 'Full Bath', 'Garage Cars', 'Lot Area', 'AgeBuilt', 'AgeRemod', 'BuiltArea', 'Open Porch SF', 'Enclosed Porch']\n",
    "X = df[feature_cols]\n",
    "X = pd.concat([X, dummies], axis = 1)\n",
    "print(X.shape)\n",
    "\n",
    "X_df_test = df_test[feature_cols]\n",
    "X_df_test = pd.concat([X_df_test, dummies_test], axis = 1)\n",
    "print(X_df_test.shape)"
   ]
  },
  {
   "cell_type": "code",
   "execution_count": 16,
   "metadata": {},
   "outputs": [],
   "source": [
    "y = df['SalePrice']"
   ]
  },
  {
   "cell_type": "markdown",
   "metadata": {},
   "source": [
    "## Standard Scaler"
   ]
  },
  {
   "cell_type": "code",
   "execution_count": 32,
   "metadata": {},
   "outputs": [
    {
     "name": "stderr",
     "output_type": "stream",
     "text": [
      "/anaconda3/lib/python3.6/site-packages/sklearn/preprocessing/data.py:625: DataConversionWarning: Data with input dtype uint8, int64, float64 were all converted to float64 by StandardScaler.\n",
      "  return self.partial_fit(X, y)\n",
      "/anaconda3/lib/python3.6/site-packages/sklearn/base.py:462: DataConversionWarning: Data with input dtype uint8, int64, float64 were all converted to float64 by StandardScaler.\n",
      "  return self.fit(X, **fit_params).transform(X)\n",
      "/anaconda3/lib/python3.6/site-packages/ipykernel_launcher.py:5: DataConversionWarning: Data with input dtype uint8, int64, float64 were all converted to float64 by StandardScaler.\n",
      "  \"\"\"\n"
     ]
    }
   ],
   "source": [
    "from sklearn.preprocessing import StandardScaler\n",
    "\n",
    "ss = StandardScaler()\n",
    "Xs = ss.fit_transform(X)\n",
    "Xs_test = ss.transform(X_df_test)"
   ]
  },
  {
   "cell_type": "markdown",
   "metadata": {},
   "source": [
    "## Train test split"
   ]
  },
  {
   "cell_type": "code",
   "execution_count": 33,
   "metadata": {},
   "outputs": [],
   "source": [
    "X_train, X_test, y_train, y_test = train_test_split(Xs,y, random_state = 99)"
   ]
  },
  {
   "cell_type": "markdown",
   "metadata": {},
   "source": [
    "## Model fitting"
   ]
  },
  {
   "cell_type": "code",
   "execution_count": 34,
   "metadata": {},
   "outputs": [
    {
     "data": {
      "text/plain": [
       "RandomForestRegressor(bootstrap=True, criterion='mse', max_depth=None,\n",
       "           max_features='auto', max_leaf_nodes=None,\n",
       "           min_impurity_decrease=0.0, min_impurity_split=None,\n",
       "           min_samples_leaf=1, min_samples_split=2,\n",
       "           min_weight_fraction_leaf=0.0, n_estimators=300, n_jobs=None,\n",
       "           oob_score=False, random_state=None, verbose=0, warm_start=False)"
      ]
     },
     "execution_count": 34,
     "metadata": {},
     "output_type": "execute_result"
    }
   ],
   "source": [
    "rfr = RandomForestRegressor(n_estimators=300)\n",
    "rfr.fit(X_train, y_train)"
   ]
  },
  {
   "cell_type": "markdown",
   "metadata": {},
   "source": [
    "## Model prediction"
   ]
  },
  {
   "cell_type": "code",
   "execution_count": 35,
   "metadata": {},
   "outputs": [],
   "source": [
    "y_pred = rfr.predict(Xs_test)"
   ]
  },
  {
   "cell_type": "markdown",
   "metadata": {},
   "source": [
    "## Cross Validation"
   ]
  },
  {
   "cell_type": "code",
   "execution_count": 38,
   "metadata": {},
   "outputs": [
    {
     "name": "stdout",
     "output_type": "stream",
     "text": [
      "0.8731369911485029\n",
      "27970.979547353454\n"
     ]
    }
   ],
   "source": [
    "kf = model_selection.KFold(n_splits=5, shuffle=True)\n",
    "\n",
    "print(np.mean(cross_val_score(rfr, X, y, cv=kf)))\n",
    "print(np.sqrt(np.mean(-cross_val_score(rfr, X, y, cv=kf, scoring='neg_mean_squared_error'))))"
   ]
  },
  {
   "cell_type": "markdown",
   "metadata": {},
   "source": [
    "## Predict with test data"
   ]
  },
  {
   "cell_type": "code",
   "execution_count": 34,
   "metadata": {},
   "outputs": [
    {
     "data": {
      "text/html": [
       "<div>\n",
       "<style scoped>\n",
       "    .dataframe tbody tr th:only-of-type {\n",
       "        vertical-align: middle;\n",
       "    }\n",
       "\n",
       "    .dataframe tbody tr th {\n",
       "        vertical-align: top;\n",
       "    }\n",
       "\n",
       "    .dataframe thead th {\n",
       "        text-align: right;\n",
       "    }\n",
       "</style>\n",
       "<table border=\"1\" class=\"dataframe\">\n",
       "  <thead>\n",
       "    <tr style=\"text-align: right;\">\n",
       "      <th></th>\n",
       "      <th>Id</th>\n",
       "      <th>SalePrice</th>\n",
       "    </tr>\n",
       "  </thead>\n",
       "  <tbody>\n",
       "    <tr>\n",
       "      <th>17</th>\n",
       "      <td>790</td>\n",
       "      <td>131910.0</td>\n",
       "    </tr>\n",
       "    <tr>\n",
       "      <th>114</th>\n",
       "      <td>2908</td>\n",
       "      <td>155700.0</td>\n",
       "    </tr>\n",
       "    <tr>\n",
       "      <th>851</th>\n",
       "      <td>972</td>\n",
       "      <td>163000.0</td>\n",
       "    </tr>\n",
       "    <tr>\n",
       "      <th>174</th>\n",
       "      <td>2509</td>\n",
       "      <td>150947.6</td>\n",
       "    </tr>\n",
       "    <tr>\n",
       "      <th>163</th>\n",
       "      <td>1922</td>\n",
       "      <td>135630.0</td>\n",
       "    </tr>\n",
       "  </tbody>\n",
       "</table>\n",
       "</div>"
      ],
      "text/plain": [
       "       Id  SalePrice\n",
       "17    790   131910.0\n",
       "114  2908   155700.0\n",
       "851   972   163000.0\n",
       "174  2509   150947.6\n",
       "163  1922   135630.0"
      ]
     },
     "execution_count": 34,
     "metadata": {},
     "output_type": "execute_result"
    }
   ],
   "source": [
    "y_pred = rfr.predict(X_df_test)\n",
    "\n",
    "prediction = pd.concat([test_id, pd.Series(y_pred)], axis = 1)\n",
    "prediction.columns = ['Id', 'SalePrice']\n",
    "\n",
    "prediction.sample(5)"
   ]
  },
  {
   "cell_type": "code",
   "execution_count": 35,
   "metadata": {},
   "outputs": [],
   "source": [
    "prediction.to_csv(\"Emilio_Try6_RandomForest_SS.csv\", index=False)"
   ]
  },
  {
   "cell_type": "code",
   "execution_count": null,
   "metadata": {},
   "outputs": [],
   "source": []
  }
 ],
 "metadata": {
  "kernelspec": {
   "display_name": "Python 3",
   "language": "python",
   "name": "python3"
  },
  "language_info": {
   "codemirror_mode": {
    "name": "ipython",
    "version": 3
   },
   "file_extension": ".py",
   "mimetype": "text/x-python",
   "name": "python",
   "nbconvert_exporter": "python",
   "pygments_lexer": "ipython3",
   "version": "3.6.8"
  }
 },
 "nbformat": 4,
 "nbformat_minor": 2
}
